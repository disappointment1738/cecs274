{
 "cells": [
  {
   "cell_type": "markdown",
   "metadata": {},
   "source": [
    "# Python Numeric Data Types\n",
    "\n",
    "There are three numeric data types built-in to Python.  These are:\n",
    "\n",
    "* integers - `int`\n",
    "* floating point numbers - `float`\n",
    "* complex numbers - `complex`\n"
   ]
  },
  {
   "cell_type": "code",
   "execution_count": 1,
   "metadata": {},
   "outputs": [
    {
     "name": "stdout",
     "output_type": "stream",
     "text": [
      "The number 5 is of the type <class 'int'>\n",
      "The number 2.12 is of the type <class 'float'>\n",
      "The number (5+2.12j) is of the type <class 'complex'>\n"
     ]
    }
   ],
   "source": [
    "x = 5\n",
    "y = 2.12\n",
    "z = x +y*1j\n",
    "\n",
    "print(\"The number\", x, \"is of the type\", type(x))\n",
    "print(\"The number\", y, \"is of the type\", type(y))\n",
    "print(\"The number\", z, \"is of the type\", type(z))"
   ]
  },
  {
   "cell_type": "markdown",
   "metadata": {},
   "source": [
    "## Operators\n",
    "\n",
    "The following operators are defined for all three numeric types above.\n",
    "\n",
    "* Addition:              +\n",
    "* Subtraction/Negation:  -\n",
    "* Multiplication:        *\n",
    "* Division:              /\n",
    "* Exponentiation:        **\n",
    "\n",
    "The following operators are defined for `int` and `float`.\n",
    "* Floored division:      //\n",
    "* Modulo (Remainder):    %\n",
    "\n",
    "Just like in typical mathematical expressions, Python follows the PEMDAS order of opertations:\n",
    "* P - parentheses (note, only parentheses may be used to group items in an expression NOT [  ] or {  }\n",
    "* E - exponents\n",
    "* M - multiplication, modulo, or\n",
    "* D - division\n",
    "* A - addition, or\n",
    "* S - subtraction"
   ]
  },
  {
   "cell_type": "code",
   "execution_count": null,
   "metadata": {
    "collapsed": true
   },
   "outputs": [],
   "source": [
    "3 + 6 / 3"
   ]
  },
  {
   "cell_type": "code",
   "execution_count": null,
   "metadata": {
    "collapsed": true
   },
   "outputs": [],
   "source": [
    "4 - 2 + 8"
   ]
  },
  {
   "cell_type": "code",
   "execution_count": null,
   "metadata": {
    "collapsed": true
   },
   "outputs": [],
   "source": [
    "8 % 4 / 3"
   ]
  },
  {
   "cell_type": "code",
   "execution_count": null,
   "metadata": {
    "collapsed": true
   },
   "outputs": [],
   "source": [
    "8 / 4 % 3"
   ]
  },
  {
   "cell_type": "code",
   "execution_count": null,
   "metadata": {
    "collapsed": true
   },
   "outputs": [],
   "source": [
    "8 * 4 % 3"
   ]
  },
  {
   "cell_type": "code",
   "execution_count": null,
   "metadata": {
    "collapsed": true
   },
   "outputs": [],
   "source": [
    "8 % 4 * 3"
   ]
  },
  {
   "cell_type": "markdown",
   "metadata": {},
   "source": [
    "# Built-in Types"
   ]
  },
  {
   "cell_type": "markdown",
   "metadata": {},
   "source": [
    "## Strings\n",
    "\n",
    "A string is a list of individual characters.  The first character begins at index 0.\n",
    "\n",
    "### SYNTAX |  STRING\n",
    "\n",
    "To create a string type we can either use \"double quotations\" or 'single quotations'.\n",
    "\n",
    "        name = \"Bob\"\n",
    "\n",
    "        last_name = 'Vartez'  \n",
    "\n",
    "### SYNTAX | OBTAINING SPECIFIC CHARACTERS\n",
    "To obtain a specific character in a string, call the variable name followed by brackets containing the index of the desired character.\n",
    "`c = string_var[i]`"
   ]
  },
  {
   "cell_type": "code",
   "execution_count": null,
   "metadata": {
    "collapsed": true
   },
   "outputs": [],
   "source": [
    "school = \"CSULB\"\n",
    "print(school[0])"
   ]
  },
  {
   "cell_type": "markdown",
   "metadata": {},
   "source": [
    "### SYNTAX | SUBSTRING\n",
    "\n",
    "`substr = string_var[start : end+1 ]`\n",
    "\n",
    "#### EXAMPLE |\n",
    "How do we create a substring that holds only the characters `CSU` from the string `CSULB`?"
   ]
  },
  {
   "cell_type": "code",
   "execution_count": null,
   "metadata": {
    "collapsed": true
   },
   "outputs": [],
   "source": [
    "print(school[0:3])  \n",
    "\n",
    "#what indexing would be necessary to build the substring \"LB\"?  Try it."
   ]
  },
  {
   "cell_type": "markdown",
   "metadata": {},
   "source": [
    "#### EXAMPLE | Using the lower() and upper() string type functions"
   ]
  },
  {
   "cell_type": "code",
   "execution_count": null,
   "metadata": {
    "collapsed": true
   },
   "outputs": [],
   "source": [
    "lower_case_school = school.lower()\n",
    "print(lower_case_school)\n",
    "\n",
    "course = 'cecs 228'\n",
    "upper_case_course = course.upper()\n",
    "print(upper_case_course)"
   ]
  },
  {
   "cell_type": "markdown",
   "metadata": {
    "collapsed": true
   },
   "source": [
    "Other quick reminders:\n",
    "* To find the length of the a string `str_var` use the function `len()` e.g. `len(str_var)`\n",
    "* Strings are immutable, i.e. you can NOT change the characters of a string.\n",
    "* You can concatenate two strings by using the `+` operator. "
   ]
  },
  {
   "cell_type": "markdown",
   "metadata": {},
   "source": [
    "## Container Type: Lists \n",
    "\n",
    "\n",
    "### SYNTAX | LIST\n",
    "\n",
    "`list_name = [ 1, 2, 3]`\n",
    "\n",
    "You can store values of any type into a list.  A list can contain elements all of a same type, or a mix of elements of different types.\n",
    "\n",
    "#### Access\n",
    "\n",
    "We access element at index `i` in list `my_list` by calling \n",
    "\n",
    "`my_list[i]`\n",
    "\n",
    "#### Modification\n",
    "\n",
    "We can change the value stored at index `i` in the list `my_list` to `new_val` by using the syntax \n",
    "\n",
    "`my_list[i] = new_val`\n",
    "\n",
    "#### Adding new elements\n",
    "\n",
    "We can **add** a new element `new_ele` to the end of the list by using syntax\n",
    "\n",
    "`my_list.append(new_ele)`\n",
    "\n",
    "We can **insert** a new element `new_ele` at index `i` by using the syntax\n",
    "\n",
    "`my_list.insert(i, new_ele)`\n",
    "\n",
    "#### Removing elements\n",
    "\n",
    "We can add a new element `new_ele` to the end of the list by using syntax\n",
    "\n",
    "`my_list.append(new_ele)`\n",
    "\n",
    "#### EXAMPLE |"
   ]
  },
  {
   "cell_type": "code",
   "execution_count": null,
   "metadata": {
    "collapsed": true
   },
   "outputs": [],
   "source": [
    "students = ['Ana', 'Bob', 'Carmen', 'David']\n",
    "print(\"All students:\", students)\n",
    "\n",
    "#accessing the element at index 0\n",
    "print(\"Print student at top of list:\", students[0])\n",
    "\n",
    "#creating a sublist\n",
    "cs_students = students[0:2]\n",
    "print(\"CS students:\", cs_students)\n",
    "\n",
    "#modifying an entry in the sublist\n",
    "cs_students[1] = 'Barb'\n",
    "print(\"CS students after modification:\",cs_students)\n",
    "print(\"Original Students:\", students)  #Notice: the change only affects the list called\n",
    "\n",
    "#appending to the list of CS students\n",
    "cs_students.append('Zoe')\n",
    "print(cs_students)\n",
    "\n",
    "#removing from the list of original students\n",
    "students.remove('David')\n",
    "print(\"Students after removal\", students)\n",
    "\n",
    "#attempting to remove a non-existent entry (what happens?)\n",
    "students.remove('Katherine')"
   ]
  },
  {
   "cell_type": "markdown",
   "metadata": {
    "collapsed": true
   },
   "source": [
    "## Container Type: Tuples \n",
    "\n",
    "Another way to collect data values is by means of a tuple.  A tuple is like a list, except it is immutable i.e. once elements have been added to a tuple, they can no longer be modified in any way.\n",
    "\n",
    "### SYNTAX | TUPLE\n",
    "\n",
    "`t = (1, 2, 3)`\n",
    "\n",
    "#### EXAMPLE |"
   ]
  },
  {
   "cell_type": "code",
   "execution_count": null,
   "metadata": {
    "collapsed": true
   },
   "outputs": [],
   "source": [
    "t = (3, 'hello', 4.5, \"Tony's Shack\")\n",
    "\n",
    "print(\"The element at index 1 is\", t[1]) #accessing an element in a tuple\n"
   ]
  },
  {
   "cell_type": "markdown",
   "metadata": {},
   "source": [
    "#### EXAMPLE |"
   ]
  },
  {
   "cell_type": "code",
   "execution_count": null,
   "metadata": {
    "collapsed": true
   },
   "outputs": [],
   "source": [
    "white_house_coordinates = (38.8977, 77.0366)\n",
    "print('Coordinates:', white_house_coordinates)\n",
    "print('Tuple length:', len(white_house_coordinates))\n",
    "\n",
    "# Access tuples via index\n",
    "print('\\nLatitude:', white_house_coordinates[0], 'north')\n",
    "print('Longitude:', white_house_coordinates[1], 'west\\n')\n",
    "\n",
    "# Error. Tuples are immutable\n",
    "white_house_coordinates[1] = 50"
   ]
  },
  {
   "cell_type": "markdown",
   "metadata": {},
   "source": [
    "## Container Type: Dictionaries\n",
    "\n",
    "### SYNTAX | DICTIONARY\n",
    "\n",
    "`d = {key_1 : value_1, key_2 : value_2, ..., key_n : value_n}`\n"
   ]
  },
  {
   "cell_type": "markdown",
   "metadata": {},
   "source": [
    "#### EXAMPLE |"
   ]
  },
  {
   "cell_type": "code",
   "execution_count": 3,
   "metadata": {},
   "outputs": [
    {
     "name": "stdout",
     "output_type": "stream",
     "text": [
      "{'Ana': 3.4, 'Bob': 3.0, 'Carlos': 3.4, 'Kim': 2.9}\n"
     ]
    }
   ],
   "source": [
    "students = {'Ana' : 3.4, 'Bob' : 3.0, 'Carlos' : 3.4, 'Kim' : 2.9}\n",
    "print(students)"
   ]
  },
  {
   "cell_type": "markdown",
   "metadata": {},
   "source": [
    "#### Access\n",
    "The following illustrates single value access.  For options in accessing elements via a loop see the Jupyter NB \"Python Review - Loops\""
   ]
  },
  {
   "cell_type": "code",
   "execution_count": 2,
   "metadata": {},
   "outputs": [
    {
     "name": "stdout",
     "output_type": "stream",
     "text": [
      "Ana's GPA: 3.4\n"
     ]
    }
   ],
   "source": [
    "print(\"Ana's GPA:\", students[\"Ana\"])"
   ]
  },
  {
   "cell_type": "markdown",
   "metadata": {},
   "source": [
    "#### Modification\n",
    "\n",
    "* **Changing a value**"
   ]
  },
  {
   "cell_type": "code",
   "execution_count": null,
   "metadata": {
    "collapsed": true
   },
   "outputs": [],
   "source": [
    "students['Bob'] = 2.5\n",
    "print(students)"
   ]
  },
  {
   "cell_type": "markdown",
   "metadata": {},
   "source": [
    "* **Adding a new key & value**"
   ]
  },
  {
   "cell_type": "code",
   "execution_count": null,
   "metadata": {
    "collapsed": true
   },
   "outputs": [],
   "source": [
    "students[\"Tim\"] = 3.1\n",
    "print(students)"
   ]
  },
  {
   "cell_type": "markdown",
   "metadata": {},
   "source": [
    "* **Removing**"
   ]
  },
  {
   "cell_type": "code",
   "execution_count": null,
   "metadata": {
    "collapsed": true
   },
   "outputs": [],
   "source": [
    "del students['Kim']\n",
    "print(students)"
   ]
  }
 ],
 "metadata": {
  "anaconda-cloud": {},
  "kernelspec": {
   "display_name": "Python 3",
   "language": "python",
   "name": "python3"
  },
  "language_info": {
   "codemirror_mode": {
    "name": "ipython",
    "version": 3
   },
   "file_extension": ".py",
   "mimetype": "text/x-python",
   "name": "python",
   "nbconvert_exporter": "python",
   "pygments_lexer": "ipython3",
   "version": "3.6.2"
  }
 },
 "nbformat": 4,
 "nbformat_minor": 1
}
