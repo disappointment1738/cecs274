{
 "cells": [
  {
   "cell_type": "markdown",
   "metadata": {},
   "source": [
    "# Simple Conditional Statements\n",
    "\n",
    "### SYNTAX |\n",
    "\n",
    "`if some_condition:`\n",
    "\n",
    "      `# Do something`\n",
    "     \n",
    "`else:`\n",
    "\n",
    "      `#Do something else`\n",
    "      \n",
    "#### EXAMPLE | Single `if` statement"
   ]
  },
  {
   "cell_type": "code",
   "execution_count": 1,
   "metadata": {},
   "outputs": [
    {
     "name": "stdout",
     "output_type": "stream",
     "text": [
      "Enter an integer:\n",
      "0\n",
      "The absolute value of 0 is 0.\n"
     ]
    }
   ],
   "source": [
    "user_value = int(input('Enter an integer:\\n'))\n",
    "absolute_value = user_value\n",
    "\n",
    "if absolute_value < 0:\n",
    "    absolute_value = absolute_value * -1\n",
    "\n",
    "print('The absolute value of %d is %d.' % (user_value, absolute_value))\n"
   ]
  },
  {
   "cell_type": "markdown",
   "metadata": {},
   "source": [
    "#### EXAMPLE | `if-else` statement"
   ]
  },
  {
   "cell_type": "code",
   "execution_count": 4,
   "metadata": {},
   "outputs": [
    {
     "name": "stdout",
     "output_type": "stream",
     "text": [
      "Enter an a non-zero integer:\n",
      "2\n",
      "The value you entered is a positive integer.\n"
     ]
    }
   ],
   "source": [
    "user_value = int(input('Enter an a non-zero integer:\\n'))\n",
    "\n",
    "if user_value < 0:\n",
    "    print(\"The value you entered is a negative integer.\")\n",
    "else:\n",
    "    print(\"The value you entered is a positive integer.\")"
   ]
  },
  {
   "cell_type": "markdown",
   "metadata": {},
   "source": [
    "### Relational Operations\n",
    "\n",
    "Every `if` statement needs a condition.  A condition must compare two or more statements, and evaluate either into `True` or `False`.\n",
    "\n",
    "To compare statements we use the following relational operations.\n",
    "\n",
    "                `a < b`     a is less-than b\n",
    "                `a > b`\t   a is greater-than b\n",
    "                `a <= b`\ta is less-than-or-equal-to b\n",
    "                `a >= b`\ta is greater-than-or-equal-to b\n",
    "                `a == b`\ta is equal to b\n",
    "                `a != b`\ta is not-equal to b"
   ]
  },
  {
   "cell_type": "code",
   "execution_count": 5,
   "metadata": {
    "scrolled": true
   },
   "outputs": [
    {
     "name": "stdout",
     "output_type": "stream",
     "text": [
      "Enter an integer: 3\n",
      "Your integer is NOT 4\n"
     ]
    }
   ],
   "source": [
    "user_in = int(input(\"Enter an integer: \"))\n",
    "\n",
    "condition = 4 != user_in\n",
    "\n",
    "if condition:\n",
    "    print(\"Your integer is NOT 4\")"
   ]
  },
  {
   "cell_type": "markdown",
   "metadata": {},
   "source": [
    "# Multiple Conditionals\n",
    "\n",
    "It is possible to react to more than two different conditions.  E.g. say your program needs to calculate an insurance policy cost based on age, and cost is different for the age groups 16 - 24, 25 - 39, 40+.  Then we need `elif`."
   ]
  },
  {
   "cell_type": "code",
   "execution_count": 7,
   "metadata": {},
   "outputs": [
    {
     "name": "stdout",
     "output_type": "stream",
     "text": [
      "Enter your age: 36\n",
      "Annual price: $2350\n"
     ]
    }
   ],
   "source": [
    "\n",
    "# (2010 carsdirect.com)\n",
    "age_16_to_24 = 4800  # Age less than 25 \n",
    "age_25_to_39 = 2350  # Ages 25 to 39\n",
    "age_40_up = 2100     # Ages 40 and up\n",
    "\n",
    "age = int(input('Enter your age: '))\n",
    "price = 0\n",
    "\n",
    "if age <= 15:\n",
    "    print('Too young for car insurance.')\n",
    "    price = 0\n",
    "elif age <= 24:\n",
    "    price = age_16_to_24\n",
    "elif age <= 39:\n",
    "    price = age_25_to_39\n",
    "else:\n",
    "    price = age_40_up\n",
    "\n",
    "print('Annual price: $%d' % price)"
   ]
  },
  {
   "cell_type": "markdown",
   "metadata": {},
   "source": [
    "What is the difference between using `if` and `if-elif`?"
   ]
  },
  {
   "cell_type": "code",
   "execution_count": 8,
   "metadata": {},
   "outputs": [
    {
     "name": "stdout",
     "output_type": "stream",
     "text": [
      "Enter age:\n",
      "36\n",
      "You are old enough to drive.\n"
     ]
    }
   ],
   "source": [
    "age = int(input('Enter age:\\n'))\n",
    "\n",
    "#Note that more than one independent 'if' statement can execute\n",
    "if age < 16:\n",
    "    print('You are too young to drive.')\n",
    "\n",
    "if age >= 16:\n",
    "    print('You are old enough to drive.')\n",
    "\n",
    "if age >= 18:\n",
    "    print('You are old enough to vote.')\n",
    "\n",
    "if age >= 25:\n",
    "    print('Most car rental companies will rent to you.')\n",
    "\n",
    "if age >= 35:\n",
    "    print('You can run for president.')\n"
   ]
  },
  {
   "cell_type": "markdown",
   "metadata": {},
   "source": [
    "If a computation depends on more than one condition, then we can use ***nesting***, i.e. using an `if-elif-else` statement within another one:"
   ]
  },
  {
   "cell_type": "code",
   "execution_count": null,
   "metadata": {
    "collapsed": true
   },
   "outputs": [],
   "source": [
    "age_younger_male = 4800    # Age 25 or younger\n",
    "age_younger_female = 4250\n",
    "age_older_male = 2200      # Age 26 or older\n",
    "age_older_female = 2100\n",
    "\n",
    "age = int(input('Enter age: '))\n",
    "gender = input(\"Enter gender ('m' or 'f'): \")\n",
    "price = 0\n",
    "\n",
    "if gender == 'm':\n",
    "    if age <= 25:\n",
    "        price = age_younger_male\n",
    "    else:\n",
    "        price = age_older_male\n",
    "elif gender == 'f':\n",
    "    if age <= 25:\n",
    "        price = age_younger_female\n",
    "    else:\n",
    "        price = age_older_female\n",
    "\n",
    "print('Annual car insurance cost: $%d' % price)"
   ]
  },
  {
   "cell_type": "markdown",
   "metadata": {},
   "source": [
    "### Boolean Operators\n",
    "\n",
    "An alternative to nesting is using the following ***boolean operators*** to conjoin or disjoin two or more conditions in an `if`-statement.\n",
    "\n",
    "   a `and` b   Boolean AND: True when both operands are True\n",
    "   \n",
    "   a `or` b\t   Boolean OR: True when at least one operand is True.\n",
    "   \n",
    "   `not` a\t   Boolean NOT (opposite): True when the single operand is False (and False when operand is True).\n",
    "   \n",
    "Try changing the code in the previous example so that it uses boolean operators instead of nested statements:"
   ]
  },
  {
   "cell_type": "code",
   "execution_count": 10,
   "metadata": {},
   "outputs": [
    {
     "name": "stdout",
     "output_type": "stream",
     "text": [
      "Enter age: 5\n",
      "Enter gender ('m' or 'f'): f\n",
      "Annual car insurance cost: $4250\n"
     ]
    }
   ],
   "source": [
    "age_younger_male = 4800    # Age 25 or younger\n",
    "age_younger_female = 4250\n",
    "age_older_male = 2200      # Age 26 or older\n",
    "age_older_female = 2100\n",
    "\n",
    "age = int(input('Enter age: '))\n",
    "gender = input(\"Enter gender ('m' or 'f'): \")\n",
    "price = 0\n",
    "\n",
    "if (gender == 'm') and age <= 25:\n",
    "    price = age_younger_male\n",
    "elif (gender == 'm') and age > 25:\n",
    "    price = age_older_male\n",
    "elif gender == 'f' and age <= 25:\n",
    "    price = age_younger_female\n",
    "else:\n",
    "    price = age_older_female\n",
    "\n",
    "print('Annual car insurance cost: $%d' % price)"
   ]
  },
  {
   "cell_type": "markdown",
   "metadata": {},
   "source": [
    "# Membership Operators\n",
    "|  Operator | Description  | \n",
    "|---|---|\n",
    "|  `in` |  ***returns `True` if element is in the container or string*** |   \n",
    "|   `not in`|  ***returns `True` if the element is not found in the container or string*** |   \n",
    "\n",
    "#### EXAMPLE | Using `in` with a string"
   ]
  },
  {
   "cell_type": "code",
   "execution_count": null,
   "metadata": {
    "collapsed": true
   },
   "outputs": [],
   "source": [
    "text = \"Hey Carmen! I'm leaving for Mexico tomorrow!  Want to wish you good luck on your exam if I don't get to see you before then.  See you soon!\"\n",
    "\n",
    "interested_in = \"I'm not leaving for Mexico\"\n",
    "print(interested_in in text)"
   ]
  },
  {
   "cell_type": "markdown",
   "metadata": {},
   "source": [
    "#### EXAMPLE | Using `in` with a container"
   ]
  },
  {
   "cell_type": "code",
   "execution_count": null,
   "metadata": {
    "collapsed": true
   },
   "outputs": [],
   "source": [
    "friends = [\"Ana\", \"Bob\", \"Carlos\", \"David\"]\n",
    "\n",
    "print(\"Ana\" in friends)\n",
    "print(\"Zoe\" not in friends)"
   ]
  },
  {
   "cell_type": "markdown",
   "metadata": {},
   "source": [
    "## Identity Operators\n",
    "\n",
    "Sometimes we want to be able to determine whether two variables are the same object (i.e. reference the same location in memory).  In such a case we can use the following ***identity operators***:\n",
    "\n",
    "|  Operator | Description  | \n",
    "|---|---|\n",
    "|  `is` |  ***returns `True` if two variables are bound to the same object*** |   \n",
    "|   `is not`|  ***returns `True` if two variables are NOT bound to the same object*** |  \n",
    "\n"
   ]
  },
  {
   "cell_type": "code",
   "execution_count": null,
   "metadata": {
    "collapsed": true
   },
   "outputs": [],
   "source": [
    "price = 100 + 300\n",
    "cost = price\n",
    "total = price * 1.09\n",
    "\n",
    "if cost is price:\n",
    "    print(\"cost and price are bound to the same object\")\n",
    "if total is not price:\n",
    "    print(\"total and price do not reference the same location in memory.\")\n",
    "\n",
    "print(price, cost)    \n",
    "price = price * 2 #Change the location in memory\n",
    "print(price, cost)\n",
    "\n",
    "if cost is price:\n",
    "    print(\"cost and price are still bound to the same object\")\n",
    "else:\n",
    "    print(\"cost and price are no longer the same object\")\n",
    "    "
   ]
  },
  {
   "cell_type": "markdown",
   "metadata": {},
   "source": [
    "## Programming Exercise \n",
    "\n",
    "### Exercise 1\n",
    "\n",
    "Write a program that will store and display a student record.  The student record must contain his/her name, ID number, the names of the courses taken (max 6), the grades received in each course, and the GPA.  The program must calculate his/her GPA according to the following scheme: \n",
    "\n",
    "* A = 4.0\n",
    "* B = 3.0\n",
    "* C = 2.0\n",
    "* D = 1.0\n",
    "* F = 0.0\n",
    "\n",
    "GPA = Total Grade Points / # of courses\n",
    "\n",
    "The student must be identifiable by their ID number.  "
   ]
  },
  {
   "cell_type": "code",
   "execution_count": 1,
   "metadata": {
    "collapsed": true
   },
   "outputs": [],
   "source": [
    "#Write your code here\n"
   ]
  },
  {
   "cell_type": "markdown",
   "metadata": {},
   "source": [
    "### Exercise 2\n",
    "\n",
    "Create a program that allows the user to enter a sentence with a single line of text. The program must search the resulting string for abbreviations and print a list of each abbreviation along with its decoded meaning.\n",
    "\n",
    "The abbreviations it must search for are:\n",
    "\n",
    "*    HAND = Have a nice day\n",
    "*    IMHO = In my humble opinion.\n",
    "*    JSYK = Just so you know\n",
    "*    KK = Kewl kewl, or ok, got it\n",
    "*    TY = Thank you\n",
    "*    U = you\n",
    "*    YOLO = You only live once\n",
    "*    ZOMG = OMG to the max"
   ]
  },
  {
   "cell_type": "code",
   "execution_count": null,
   "metadata": {
    "collapsed": true
   },
   "outputs": [],
   "source": [
    "#Write your code here"
   ]
  }
 ],
 "metadata": {
  "anaconda-cloud": {},
  "kernelspec": {
   "display_name": "Python 3",
   "language": "python",
   "name": "python3"
  },
  "language_info": {
   "codemirror_mode": {
    "name": "ipython",
    "version": 3
   },
   "file_extension": ".py",
   "mimetype": "text/x-python",
   "name": "python",
   "nbconvert_exporter": "python",
   "pygments_lexer": "ipython3",
   "version": "3.6.2"
  }
 },
 "nbformat": 4,
 "nbformat_minor": 1
}
