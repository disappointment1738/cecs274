{
 "cells": [
  {
   "cell_type": "markdown",
   "metadata": {},
   "source": [
    "# Simple Classes\n",
    "\n",
    "#### Motivation\n",
    "\n",
    "Suppose your are tasked with writing a program that creates and stores invoices.  Perhaps your initial thoughts are to use a dictionary to store these invoices, where key = order number and value = list/dictionary.  However, you quickly realize that manipulating individual invoices and their data will be incredibly complex and tedious if you decide to implement this storage plan.  It would be much easier if there existed some `Invoice` data type, where every object of this type already had some order number associated with it, and there existed functions we could use with that object (e.g. to add an item, print the invoice, etc.)\n",
    "\n",
    "Classes allow you to accomplish precisely this: define the attributes and behaviors of your own desired data types."
   ]
  },
  {
   "cell_type": "markdown",
   "metadata": {},
   "source": [
    "### SYNTAX | Class\n",
    "\n",
    "        `class Name:'\n",
    "              `# everything else indented`\n",
    "                \n",
    "\n",
    "**Instance Attributes**\n",
    "\n",
    "A class defines what *attributes* an instance (i.e. a product) of that class will have, in addition to how the instance behaves i.e. what *operations* on those attributes are allowed.  \n",
    "* The attributes are usually nouns that describe properties of the object, these translate into strings, ints, floats, lists, etc.\n",
    "* The operations on those attributes (or behaviors of the object) are defined via functions \n",
    "\n",
    "SYNTAX | Instance Attributes\n",
    "\n",
    "        `self.attribute_name = some_value'\n",
    "\n",
    "**Instance Methods**\n",
    "\n",
    "The functions defined in a class are called **methods** because they only act ***on*** objects of the class.  Whaat???  To understand what this means, think of the function we use to print to the console:  `print()` can be called by passing in an object as an argument e.g `print(\"Hello World!\")`  \n",
    "\n",
    "There are other functions, however which we attach to an object.  Think of the of the function `upper()` which you must call ***on*** the string.  For example, if `greeting = \"Hello World!\"`, then we would call: \n",
    "\n",
    "                           greeting.upper() vs. print(greeting)\n",
    "                           \n",
    "**Special Method: Constructor**                           \n",
    "Attributes of a class object are defined once in a special method called a **constructor**.  The constructor has the reserved name `__init__` and always takes in the parameter `self`.  You must list every attribute in the constructor, preceded by `self.` .\n",
    "\n",
    "SYNTAX| CONSTRUCTOR & ATTRIBUTES\n",
    "\n",
    "        `def __init__(self):`\n",
    "            `# set the attributes here`\n",
    "            `self.attribute1 = \"n\\a\"\n",
    "            \n",
    "            OR\n",
    "            \n",
    "        `def __init__(self, param1, param2):`\n",
    "            `# set the attributes using the given arguments, this is known as the overloaded constructor`\n",
    "            `self.attribute1 = param1\n",
    "                   \n",
    "                              \n",
    "**Creating objects of the class**\n",
    "\n",
    "To create an object of a class, you must call the class name, followed by parentheses, for example `Invoice()`.  When you do this the compiler will call on the constructor to create the object and set its attributes.\n"
   ]
  },
  {
   "cell_type": "markdown",
   "metadata": {},
   "source": [
    "Example: `Invoice` class"
   ]
  },
  {
   "cell_type": "code",
   "execution_count": 76,
   "metadata": {
    "collapsed": true
   },
   "outputs": [],
   "source": [
    "class Invoice:\n",
    "\n",
    "    def __init__(self, invoice_num):\n",
    "        self.invoice = invoice_num   # invoice number is an attribute\n",
    "        self.products = {}  #dictionary of items is an attribute\n",
    "        self.total = 0\n",
    "        self.weight = 0\n",
    "        return\n",
    "        \n",
    "        \n",
    "    def addItem(self, item_name, qty_sold , unit_price, weight, isfulfilled):\n",
    "        self.products[item_name] = [qty_sold, unit_price, weight, isfulfilled]\n",
    "        self.total += qty_sold * unit_price\n",
    "        self.weight += qty_sold * weight\n",
    "        return \n",
    "        \n",
    "    def print_invoice(self):\n",
    "        \n",
    "        print(\"----INVOICE #%i---------------------\"% self.invoice)\n",
    "        print(\"%-25s(%s/%-5s) \\t\\t%s\" % (\"Item\", \"Qty.\", \"Unit Price\", \"Subtotal\"))\n",
    "        for (item, info) in self.products.items():\n",
    "            [qty, unit, w,isful] = info\n",
    "            if isful:\n",
    "                subtotal = qty * unit\n",
    "                print(\"%-25s(%d @$%.2f)\\t\\t\\t$%.2f\" % (item, qty, unit, subtotal))\n",
    "                \n",
    "            else:\n",
    "                \n",
    "                print(\"%-25s(%d @$%.2f)\\t\\t\\t$%.2f\\t\\t%s\" % (item, qty, unit, qty * unit, \"INCOMPLETE ORDER\"))\n",
    "                \n",
    "        print(\"\\nTotal: $%.2f\" % self.total)\n",
    "        shipping_cost = self._calculate_shipping()\n",
    "        print(\"Shipping & Handling Cost: $%.2f\" % shipping_cost)\n",
    "        print(\"Amound Due: $%.2f\" % float(self.total + shipping_cost) )\n",
    "        return \n",
    "    \n",
    "    def _calculate_shipping(self):\n",
    "        if self.weight > 20:\n",
    "            shipping = 10.99\n",
    "        elif self.weight > 10:\n",
    "            shipping = 5.99\n",
    "        else:\n",
    "            shipping = 3.99\n",
    "        return shipping"
   ]
  },
  {
   "cell_type": "code",
   "execution_count": 78,
   "metadata": {},
   "outputs": [
    {
     "name": "stdout",
     "output_type": "stream",
     "text": [
      "----INVOICE #10000---------------------\n",
      "Item                     (Qty./Unit Price) \t\tSubtotal\n",
      "Color Pencils            (1 @$5.99)\t\t\t$5.99\n",
      "Watercolors              (1 @$8.99)\t\t\t$8.99\t\tINCOMPLETE ORDER\n",
      "Extra-thick Paper        (2 @$4.00)\t\t\t$8.00\n",
      "\n",
      "Total: $22.98\n",
      "Shipping & Handling Cost: $10.99\n",
      "Amound Due: $33.97\n",
      "\n",
      "\n",
      "----INVOICE #10001---------------------\n",
      "Item                     (Qty./Unit Price) \t\tSubtotal\n",
      "Colgate Total 12pk       (2 @$4.99)\t\t\t$9.98\n",
      "\n",
      "Total: $9.98\n",
      "Shipping & Handling Cost: $3.99\n",
      "Amound Due: $13.97\n"
     ]
    }
   ],
   "source": [
    "invoice1 = Invoice(10000)\n",
    "invoice1.addItem(\"Color Pencils\", 1, 5.99, 2,True)\n",
    "invoice1.addItem(\"Watercolors\", 1, 8.99, 1,False)\n",
    "invoice1.addItem(\"Extra-thick Paper\", 2, 4,10.99, True)\n",
    "\n",
    "invoice1.print_invoice()\n",
    "print(\"\\n\")\n",
    "invoice2 = Invoice(10001)\n",
    "invoice2.addItem(\"Colgate Total 12pk\", 2, 4.99, 0.5,True)\n",
    "invoice2.print_invoice()"
   ]
  },
  {
   "cell_type": "markdown",
   "metadata": {},
   "source": [
    "### More on Methods\n",
    "\n",
    "We can categorize the methods in a class according to the following:\n",
    "* **Instance Methods** - act on an instance of the class, *must* take the parameter `self`\n",
    "    - ***Setters/Mutators*** - setter methods modify the object's attribute data\n",
    "    - ***Getter/Accessor*** - getters methods access the object's attribute data\n",
    "*  **Class Methods** - act on the class, do not take the parameter `self`\n",
    "    - ***Helper Methods*** - help other class methods perform their function, usually not meant for public use.  It is good practice to prepend the names of these functions with _ e.g. `def _calculate_shipping_cost_(self)`\n",
    "    - ***Static Methods*** - complete a function that is related to what the class represents.\n",
    "    \n",
    "### More on Attributes\n",
    "\n",
    "Similarly, there are attributes that are shared amongst all instances of a class.  These are known as **class attributes**.  To summarize,\n",
    "\n",
    "* **Instance attributes** - each instance receives its own copy of the attributes defined by the class and has potentially unique values for those attributes\n",
    "* **Class attributes** - attributes with values that are shared with all instances of that class. \n"
   ]
  },
  {
   "cell_type": "markdown",
   "metadata": {
    "collapsed": true
   },
   "source": [
    "## Challenges:  \n",
    "\n",
    "1. Create a class `Item` that generates item objects with attributes name, quantity, price, weight (lbs), and a boolean value `isComplete` that is true if the full quantity is being fulfilled, false otherwise.  The class should have the following setters and getters:\n",
    "    * `setName(self, name)` - sets the name attribute to be `name`\n",
    "    * `setQty(self, qty_fulfilled)` - sets the quantity to be `qty_fulfilled`\n",
    "    * `setPrice(self, price)` - sets the price to be `price`\n",
    "    * `setComplete(self, iscomplete)` - sets the attribute `isComplete` to be `iscomplete`\n",
    "    \n",
    "    * `getName(self)` - returns the name of the item\n",
    "    * `getQty(self)` - returns the item qty fulfilled\n",
    "    * `getPrice(self)` - returns the price at which the item is being sold\n",
    "    * `isComplete(self)` - returns the boolean value stored in `isComplete`\n",
    "    * The constructor should be overloaded so that we can create objects with given info e.g. `product = Item(\"cookies\", 48, 1.6, True)`\n",
    "\n",
    "2. Modify the class `Invoice` so that the setter function `addItem()` takes in an object of the class `Item`, instead of a list of the attributes of each item.  In this case, each invoice will associate an order number to a list of `Item` objects."
   ]
  },
  {
   "cell_type": "markdown",
   "metadata": {
    "collapsed": true
   },
   "source": [
    "### Class Interface\n",
    "* A **class interface**  is the set of **class methods and their docstrings.**  They are supposed to aid a programmer by hiding the details of how the class works, and just provide him/her with clean, user-friendly tools.\n",
    "\n",
    "* A class is used to define an **Abstract Data Type**, that is, a data type that behaves in a specific way and has specific attributes.  So, for example, `Invoice` is now an ADT we created.\n",
    "\n",
    "### Class Customization\n",
    "\n",
    "Thinking back to a dictionary or list object, when we print such an object, we are able to see the contents of the object (i.e. the attributes).  This is not possible with all data types.  For example, there is an object of the type `zip` which is essentially a list of tuples.  Try running the cell below to see what happens when you try to print this object."
   ]
  },
  {
   "cell_type": "code",
   "execution_count": null,
   "metadata": {
    "collapsed": true
   },
   "outputs": [],
   "source": [
    "T = zip([1, 2, 3 ], ['a', 'b', 'c'])\n",
    "print(T)"
   ]
  },
  {
   "cell_type": "markdown",
   "metadata": {},
   "source": [
    "To be able to print this object, we need to typecast it as a list:"
   ]
  },
  {
   "cell_type": "code",
   "execution_count": null,
   "metadata": {
    "collapsed": true
   },
   "outputs": [],
   "source": [
    "print(list(T))"
   ]
  },
  {
   "cell_type": "markdown",
   "metadata": {},
   "source": [
    "Now, often we would like to be able to print an object's attributes by simply calling the print function.  How can we create classes that allow its objects to print simply using `print()`?\n",
    "\n",
    "SYNTAX | \n",
    "\n",
    "        \n",
    "The method `__str__()` is special because it overloads how a class instance is printed.  **Overloading** means that we change the ............"
   ]
  },
  {
   "cell_type": "code",
   "execution_count": 94,
   "metadata": {
    "collapsed": true
   },
   "outputs": [],
   "source": [
    "class Invoice:\n",
    "    \n",
    "    last_invoice_num = 10000\n",
    "    \n",
    "    def __init__(self):\n",
    "        self.invoice = Invoice.last_invoice_num   # invoice number is an attribute\n",
    "        self.products = {}  #dictionary of items is an attribute\n",
    "        self.total = 0\n",
    "        Invoice.last_invoice_num += 1\n",
    "        return \n",
    "    \n",
    "    def addItem(self, item_name, qty_sold , unit_price, isfulfilled):\n",
    "        self.products[item_name] = [qty_sold, unit_price, isfulfilled]\n",
    "        self.total += qty_sold * unit_price\n",
    "        return \n",
    "    \n",
    "    def print_invoice(self):\n",
    "        print(\"----INVOICE #%i---------------------\"% self.invoice)\n",
    "        print(\"%-25s(%s/%-5s) \\t\\t%s\" % (\"Item\", \"Qty.\", \"Unit Price\", \"Subtotal\"))\n",
    "        for (item, info) in self.products.items():\n",
    "            [qty, unit, isful] = info\n",
    "            if isful:\n",
    "                subtotal = qty * unit\n",
    "                print(\"%-25s(%d @$%.2f)\\t\\t\\t$%.2f\" % (item, qty, unit, subtotal))\n",
    "\n",
    "            else:\n",
    "                subtotal = qty * unit\n",
    "                print(\"%-25s(%d @$%.2f)\\t\\t\\t$%.2f\\t\\t%s\" % (item, qty, unit, qty * unit, \"INCOMPLETE ORDER\"))\n",
    "        print(\"\\nTotal: $%.2f\" % self.total)\n",
    "        return\n",
    "    \n",
    "    def __str__(self):\n",
    "        invoice_str = \"\"\n",
    "        invoice_str += (\"----INVOICE #%i---------------------\\n\" % self.invoice)\n",
    "        invoice_str += (\"%-25s(%s/%-5s) \\t\\t%s\\n\" % (\"Item\", \"Qty.\", \"Unit Price\", \"Subtotal\"))\n",
    "        for (item, info) in self.products.items():\n",
    "            [qty, unit, isful] = info\n",
    "            if isful:\n",
    "                subtotal = qty * unit\n",
    "                invoice_str += (\"%-25s(%d @$%.2f)\\t\\t\\t$%.2f\\n\" % (item, qty, unit, subtotal))\n",
    "            else:\n",
    "                subtotal = qty * unit\n",
    "                invoice_str += (\"%-25s(%d @$%.2f)\\t\\t\\t$%.2f\\t\\t%s\\n\" % (item, qty, unit, qty * unit, \"INCOMPLETE ORDER\"))\n",
    "\n",
    "        invoice_str += (\"\\nTotal: $%.2f\" % self.total)\n",
    "        return invoice_str\n",
    "    \n",
    "    def __add__(self, o):\n",
    "        return self.total + o.total\n",
    "    \n",
    "    def __lt__(self, o):\n",
    "        return self.total < o.total\n",
    "    \n",
    "    "
   ]
  },
  {
   "cell_type": "code",
   "execution_count": 96,
   "metadata": {},
   "outputs": [
    {
     "name": "stdout",
     "output_type": "stream",
     "text": [
      "88.1\n",
      "False\n"
     ]
    }
   ],
   "source": [
    "invoice = Invoice()\n",
    "invoice.addItem(\"Shampoo\", 12, 1.3, True)\n",
    "#print(invoice)\n",
    "\n",
    "invoice1 = Invoice()\n",
    "invoice1.addItem(\"Letters\", 29, 2.5, False)\n",
    "print(invoice1 + invoice)\n",
    "print(invoice1 < invoice)\n"
   ]
  }
 ],
 "metadata": {
  "anaconda-cloud": {},
  "kernelspec": {
   "display_name": "Python 3",
   "language": "python",
   "name": "python3"
  },
  "language_info": {
   "codemirror_mode": {
    "name": "ipython",
    "version": 3
   },
   "file_extension": ".py",
   "mimetype": "text/x-python",
   "name": "python",
   "nbconvert_exporter": "python",
   "pygments_lexer": "ipython3",
   "version": "3.6.2"
  }
 },
 "nbformat": 4,
 "nbformat_minor": 1
}
