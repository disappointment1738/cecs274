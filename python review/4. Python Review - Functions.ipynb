{
 "cells": [
  {
   "cell_type": "markdown",
   "metadata": {},
   "source": [
    "# Python Functions"
   ]
  },
  {
   "cell_type": "markdown",
   "metadata": {},
   "source": [
    "## Introduction\n",
    "\n",
    "In some circumstances we wish to reuse lines of code in different programs or even within the same program.  One way to avoid unnecessary copying and pasting is to use a function.  A function in Python is set of instructions written as lines of code that execute whenever the function name is invoked.  The function may or may not take input parameters to complete the instructions, and may or may not return a computed value. If the function does not return a computed value, then it returns the type `None` which is a null value.\n",
    "\n",
    "### SYNTAX | basic function \n",
    "\n",
    "`def function_name():`\n",
    "    # statements to excute\n",
    "    \n",
    "#### EXAMPLES |"
   ]
  },
  {
   "cell_type": "code",
   "execution_count": null,
   "metadata": {
    "collapsed": true
   },
   "outputs": [],
   "source": [
    "def print_face():\n",
    "    \"\"\"This function prints an unimpressed face\"\"\"\n",
    "    print(\" ----------\")\n",
    "    print(\"|          |\")\n",
    "    print(\"|   O  O   |\")\n",
    "    print(\"|  ______  |\")\n",
    "    print(\"|          |\")\n",
    "    print(\" ----------\")\n",
    "    \n",
    "def printCurrentTime():\n",
    "    \"\"\"This function prints the current date and time.\"\"\"\n",
    "    import time\n",
    "    tlist = list(time.localtime()) #[yr, mo, day, hour(24), min, sec, weekday, yday, isdst]\n",
    "    \n",
    "    date = str(tlist[1]) + \"/\" + str( tlist[2] ) + \"/\" + str(tlist[0])\n",
    "    hour = tlist[3]\n",
    "    mins = tlist[4]\n",
    "    ampm = \"am\"\n",
    "    if hour > 12:\n",
    "        hour = hour % 12\n",
    "        ampm = \"pm\"\n",
    "    if mins < 10:\n",
    "        mins = \"0\" + str(mins)\n",
    "    else:\n",
    "        mins = str(mins)\n",
    "    time = str(hour) + \":\" + mins + ampm\n",
    "    \n",
    "    print(\"Date: \" + date)\n",
    "    print(\"Time: \" + time)"
   ]
  },
  {
   "cell_type": "code",
   "execution_count": null,
   "metadata": {},
   "outputs": [],
   "source": [
    "\"\"\"function calls\"\"\"\n",
    "printCurrentTime()\n",
    "\n",
    "print_face()\n",
    "\n",
    "print(print_face())"
   ]
  },
  {
   "cell_type": "markdown",
   "metadata": {},
   "source": [
    "### SYNTAX | function with parameters\n",
    "\n",
    "`def function_name(param1, param2):`\n",
    "    # statements\n",
    "    \n",
    "#### EXAMPLE |"
   ]
  },
  {
   "cell_type": "code",
   "execution_count": null,
   "metadata": {
    "collapsed": true
   },
   "outputs": [],
   "source": [
    "def print_sum(num1, num2):\n",
    "    print(\"Sum:\", num1 + num2)"
   ]
  },
  {
   "cell_type": "code",
   "execution_count": null,
   "metadata": {},
   "outputs": [],
   "source": [
    "print_sum(3,4)\n",
    "\n",
    "x = print_sum(3, 4)\n",
    "print(x)"
   ]
  },
  {
   "cell_type": "markdown",
   "metadata": {},
   "source": [
    "### SYNTAX | functions with output\n",
    "\n",
    "`def function_name():`\n",
    "\n",
    "    # coded instructions go here \n",
    "    \n",
    "    return some_value\n",
    "    \n",
    "#### EXAMPLES |"
   ]
  },
  {
   "cell_type": "code",
   "execution_count": null,
   "metadata": {
    "collapsed": true
   },
   "outputs": [],
   "source": [
    "def add(x, y):\n",
    "    \"\"\"returns the sum of two numbers\n",
    "    INPUT: x - a numeric value\n",
    "           y - a numeric value\n",
    "    OUTPUT: the sum of x and y\n",
    "    \"\"\"\n",
    "    return x+y"
   ]
  },
  {
   "cell_type": "code",
   "execution_count": null,
   "metadata": {
    "collapsed": true
   },
   "outputs": [],
   "source": [
    "def multiply(x, y):\n",
    "    \"\"\"returns the product of two numbers\n",
    "    INPUT: x - a numeric value\n",
    "           y - a numeric value\n",
    "    OUTPUT: the product of x and y\n",
    "    \"\"\"\n",
    "    return x*y"
   ]
  },
  {
   "cell_type": "code",
   "execution_count": null,
   "metadata": {},
   "outputs": [],
   "source": [
    "\"\"\"FUNCTION CALLS\"\"\"\n",
    "s = add(2, 3)\n",
    "p = multiply(2, 3)\n",
    "print(\"The sum of 2 and 3 is\", s)\n",
    "print(\"The product of 2 and 3 is\", p)"
   ]
  },
  {
   "cell_type": "markdown",
   "metadata": {},
   "source": [
    "#### Multiple Function Outputs\n",
    "We are able to have multiple outputs from a function by placing them in a container. \n",
    "\n",
    "\n",
    "#### EXAMPLE |"
   ]
  },
  {
   "cell_type": "code",
   "execution_count": null,
   "metadata": {},
   "outputs": [],
   "source": [
    "def dummy_function(x, y):\n",
    "    return (x+y, x-y, x*y) #tuple, immutable list"
   ]
  },
  {
   "cell_type": "code",
   "execution_count": null,
   "metadata": {},
   "outputs": [],
   "source": [
    "(s, d, p) = dummy_function(2, 3)  #unpacking the output\n",
    "print(\"The sum of 2 and 3 is\", s)\n",
    "print(\"The difference of 2 and 3 is\", d)\n",
    "print(\"The product of 2 and 3 is\", p)\n",
    "\n",
    "elements = dummy_function(6, 2)\n",
    "print(elements[0])"
   ]
  },
  {
   "cell_type": "markdown",
   "metadata": {},
   "source": [
    "## Dynamic Typing\n",
    "\n",
    "When an object is input into a function, Python uses dynamic typing to determine what type of object it will be manipulating.  This means, the Python interpreter determines the type of the object it must store at run-time, rather than having the programmer specify the type of the parameter.  A consequence of this, is that operations defined in the function body can change depending on the type of input objects.\n",
    "\n",
    "For example, what do the functions `add()` and `multiply()` do when the following parameters are given?  "
   ]
  },
  {
   "cell_type": "code",
   "execution_count": null,
   "metadata": {},
   "outputs": [],
   "source": [
    "add(\"Hello\" ,\"World\")"
   ]
  },
  {
   "cell_type": "code",
   "execution_count": null,
   "metadata": {},
   "outputs": [],
   "source": [
    "multiply(3, \"Hello\")"
   ]
  },
  {
   "cell_type": "markdown",
   "metadata": {},
   "source": [
    "Why does this happen?\n",
    "\n",
    "* In each case, the interpreter adapts the definition of the operator `+` or `*` according to the types of each argument.  How an operation depends on the involved object types is called **polymorphism**."
   ]
  },
  {
   "cell_type": "markdown",
   "metadata": {},
   "source": [
    "## Function Stubs\n",
    "\n",
    "When we write long programs, we tend to do so incrementally and at times we may have an idea of what functions we need, but not be so clear on how to implement them.  In such a case, it is good practice to use **function stubs**, i.e. unimplemented function definitions.  Below are a few ways to write function stubs:\n",
    "\n",
    "#### METHOD 1: `pass`"
   ]
  },
  {
   "cell_type": "code",
   "execution_count": null,
   "metadata": {
    "collapsed": true
   },
   "outputs": [],
   "source": [
    "def calculate_payment_by_qty():\n",
    "    pass"
   ]
  },
  {
   "cell_type": "markdown",
   "metadata": {},
   "source": [
    "#### METHOD 2: `print(\"FIXME: finish method\")`"
   ]
  },
  {
   "cell_type": "code",
   "execution_count": null,
   "metadata": {
    "collapsed": true
   },
   "outputs": [],
   "source": [
    "def calculate_payment_by_wt():\n",
    "    print(\"FIXME: finish calculate_payment_by_wt\")"
   ]
  },
  {
   "cell_type": "markdown",
   "metadata": {},
   "source": [
    "#### METHOD 3: `raise NotImplementedError`"
   ]
  },
  {
   "cell_type": "code",
   "execution_count": null,
   "metadata": {},
   "outputs": [],
   "source": [
    "def calculate_payment_by_order():\n",
    "    raise NotImplementedError\n",
    "    \n",
    "print(\"Line 1\")\n",
    "print(\"Line 2\")\n",
    "calculate_payment_by_order()\n",
    "print(\"This line executed!\")"
   ]
  },
  {
   "cell_type": "markdown",
   "metadata": {},
   "source": [
    "## Functions as Objects\n",
    "\n",
    "Sometimes it is necessary to call to a function within a function in what is known as **hierarchical function calls** or **nested function calls**.  In these cases, the function that is passed in is treated as an object.  \n",
    "\n",
    "#### EXAMPLES |\n"
   ]
  },
  {
   "cell_type": "code",
   "execution_count": null,
   "metadata": {},
   "outputs": [],
   "source": [
    "age = int(input(\"Enter your age: \"))\n",
    "print(\"In three years you will be\", age + 3, \"years old.\")"
   ]
  },
  {
   "cell_type": "markdown",
   "metadata": {},
   "source": [
    "In this case a call to the function `int()` depends on a call to the function `input()`.  The function `int()` does not return until `input()` has executed and returned.\n"
   ]
  },
  {
   "cell_type": "code",
   "execution_count": null,
   "metadata": {},
   "outputs": [],
   "source": [
    "def human_head():\n",
    "    print('   ||||| ')\n",
    "    print('   o   o')\n",
    "    print('     >' )\n",
    "    print('   ooooo')\n",
    "    return\n",
    "\n",
    "def monkey_head():\n",
    "    print('   .-\"-.')\n",
    "    print(' _/.-.-.\\\\_')\n",
    "    print('( ( o o ) )')\n",
    "    print(' |/  \"  \\\\|')\n",
    "    print('  \\\\ .-. /')\n",
    "    print('  /`\"\"\"`\\\\')\n",
    "    return\n",
    "\n",
    "def print_figure(face): \n",
    "    face()  # Print the face\n",
    "    print('     |')\n",
    "    print('   --|--')\n",
    "    print('  /  |  \\\\')\n",
    "    print('@    |    @')\n",
    "    print('     |')\n",
    "    print('    /|\\\\')\n",
    "    print('   @   @')\n",
    "    return\n",
    "\n",
    "choice = int(input('Enter \"1\" to draw monkey, \"2\" for human: '))\n",
    "\n",
    "if choice == 1:\n",
    "    print_figure(monkey_head)\n",
    "elif choice == 2:\n",
    "    print_figure(human_head)"
   ]
  },
  {
   "cell_type": "markdown",
   "metadata": {},
   "source": [
    "## Keyword Arguments\n",
    "\n",
    "#### Specifying input values\n",
    "Sometimes a function may have multiple parameters, which can be a source of error if the user accidentally swaps the order of two or more arguments.  Consider the following function:"
   ]
  },
  {
   "cell_type": "code",
   "execution_count": null,
   "metadata": {
    "collapsed": true
   },
   "outputs": [],
   "source": [
    "def print_book_description(title, author, publisher, year, version, num_chapters, num_pages):\n",
    "    print('Title:', title)\n",
    "    print('Author:', author)\n",
    "    print('Publisher:', publisher)\n",
    "    print('Year:', year)\n",
    "    print('Version', version)\n",
    "    print('Number of Chapters:', num_chapters)\n",
    "    print('Number of Pages:', num_pages)\n",
    "    return\n"
   ]
  },
  {
   "cell_type": "markdown",
   "metadata": {},
   "source": [
    "To avoid the danger of swapping orders, we can use keyword arguments.  A keyword\n",
    "argument is characterized by the syntax\n",
    "\n",
    "                                  name_of_parameter = value \n",
    "\n",
    "\n",
    "For example,\n"
   ]
  },
  {
   "cell_type": "code",
   "execution_count": null,
   "metadata": {},
   "outputs": [],
   "source": [
    "print_book_description(title='The Lord of the Rings', publisher='George Allen & Unwin',\n",
    "                       year=1954, author='J. R. R. Tolkien', version=1.0,\n",
    "                       num_pages=456, num_chapters=2)\n"
   ]
  },
  {
   "cell_type": "markdown",
   "metadata": {},
   "source": [
    "#### Specifying default parameter values\n",
    "You can also specify default parameter values in the function definition."
   ]
  },
  {
   "cell_type": "code",
   "execution_count": null,
   "metadata": {},
   "outputs": [],
   "source": [
    "def hypersphere_calc(a=1, b=1, c=1, x=1, y=1, z=1):\n",
    "    return a**2 + b**2 + c**2 + x**2 + y**2 + z**2\n",
    "\n",
    "print(hypersphere_calc())  #call with default values\n",
    "print(hypersphere_calc(4, c=0, x=2, y=3, z=0, b=0))  #call with a in order, all values specified\n",
    "print(hypersphere_calc(a=0, x=0))   #call with a and x specified"
   ]
  },
  {
   "cell_type": "markdown",
   "metadata": {},
   "source": [
    "## Arbitray Arguments\n",
    "\n",
    "Suppose you need to create a function that formats a string but the issue is you do not \n",
    "know how many parameters the user might input to perform this calculation.\n",
    "Luckily, there is more than one way around the problem.  One method we have already\n",
    "seen and that is to collect the values in a list, and pass the list as a parameter.\n",
    "\n",
    "Another method is to use `*args`.  Using `*args` places all the additional parameters in a list called `args`.\n",
    "\n",
    "### SYNTAX | `*args`\n",
    "\n",
    "             def function_name(param1, param2, *args):\n",
    "                  #statements\n",
    "                  #statement to access additional arguments does not need *\n",
    "                  # just \"args\"\n",
    "                  \n",
    "#### EXAMPLE | *args"
   ]
  },
  {
   "cell_type": "code",
   "execution_count": null,
   "metadata": {},
   "outputs": [],
   "source": [
    "\n",
    "# the function below takes in three parameters only\n",
    "def sandwich(bread, meat, additional_topping):\n",
    "    print('%s on %s with %s' % (meat, bread, additional_topping))\n",
    "\n",
    "\n",
    "\n",
    "# the function below takes in 1 or more parameters\n",
    "def sandwich(bread, *args):\n",
    "    print(bread + \" with\", end = \" \")\n",
    "\n",
    "    for i in range(len(args)-1):#args is a tuple of all the additional values passed in by the user\n",
    "        print(args[i] +\",\", end = \" \")\n",
    "    print(\"and \" + args[-1]+\".\")\n",
    "    \n",
    "    \n",
    "sandwich('wheat', 'ham', 'cheese', 'lettuce', 'mayo', 'bell peppers', 'onion')"
   ]
  },
  {
   "cell_type": "markdown",
   "metadata": {},
   "source": [
    "Alternatively, you may specify a function that takes in additional keyword arguments using `**kwargs`.  Using `**kwargs` results in additional parameters getting placed in a dictionary, where the user specifies the keys and values.\n",
    "\n",
    "#### EXAMPLE | `**kwargs`"
   ]
  },
  {
   "cell_type": "code",
   "execution_count": null,
   "metadata": {},
   "outputs": [],
   "source": [
    "def sandwich(bread, meat, **kwargs): #** stores all the additional parameter values into a dictionary\n",
    "    print('%s on %s' % (meat, bread))\n",
    "    \n",
    "    for (category, extra) in kwargs.items():  #The method items() returns a list of dict's (key, value) tuple pairs\n",
    "        print('   %s: %s' % (category, extra))\n",
    "\n",
    "sandwich('sourdough', 'turkey', sauce='mayo')"
   ]
  },
  {
   "cell_type": "code",
   "execution_count": null,
   "metadata": {},
   "outputs": [],
   "source": [
    "sandwich('wheat', 'ham', sauce1='mustard', veggie1='tomato', veggie2='lettuce')"
   ]
  },
  {
   "cell_type": "markdown",
   "metadata": {},
   "source": [
    "NOTES:\n",
    "1. The important syntax in `*args` and `**kwargs` is not the args or kwargs it is the `*` and `**` respectively. Hence, we could replace `args` and `kwargs` for a more descriptive name.\n",
    "2. You can use one or both of `*args` and `**kwargs`, but they must be defined in the order `*args`, `**kwargs`\n",
    "\n",
    "\n",
    "\n",
    "#### EXAMPLE |  Using `*` with another name."
   ]
  },
  {
   "cell_type": "code",
   "execution_count": null,
   "metadata": {},
   "outputs": [],
   "source": [
    "def people_in_my_fam(father, mother,*cousins, **siblings): #cousins are stored in a tuple, siblings are stored in a dictionary \n",
    "    print('The name of my father is', father)\n",
    "    print('The name of my mother is', mother)\n",
    "    for cousin in cousins:\n",
    "        print(\"I have a cousin named\", cousin)\n",
    "    \n",
    "    for (sibling, name) in siblings.items():\n",
    "        if \"brother\" in sibling:\n",
    "            print(\"I have a brother named\", name)\n",
    "        elif \"sister\" in sibling:\n",
    "            print(\"I have a sister named\", name)\n",
    "            \n",
    "people_in_my_fam('Abe', 'Barbara', 'Liz', 'Miriam', brother1 = 'Pete', brother2 = 'Sam', sister1 = 'Kenia')"
   ]
  },
  {
   "cell_type": "markdown",
   "metadata": {},
   "source": [
    "# Programming Exercises\n"
   ]
  },
  {
   "cell_type": "markdown",
   "metadata": {
    "collapsed": true
   },
   "source": [
    "### Exercise 1\n",
    "\n",
    "Create a function `split()` that takes an input string and returns a list of the words in the string.  The following is an example of how it should work:\n",
    "\n",
    "`>> split(\"Hello, Beautiful World!\")`\n",
    "\n",
    "`[\"Hello\", \"Beautiful\", \"World\"]`"
   ]
  },
  {
   "cell_type": "code",
   "execution_count": null,
   "metadata": {
    "collapsed": true
   },
   "outputs": [],
   "source": [
    "# Write your code here"
   ]
  },
  {
   "cell_type": "code",
   "execution_count": null,
   "metadata": {},
   "outputs": [],
   "source": [
    "split(\"Hello, Beautiful, World! How are you doing today? I figured out how to split a string by words today. :)\")"
   ]
  }
 ],
 "metadata": {
  "anaconda-cloud": {},
  "kernelspec": {
   "display_name": "Python 3",
   "language": "python",
   "name": "python3"
  },
  "language_info": {
   "codemirror_mode": {
    "name": "ipython",
    "version": 3
   },
   "file_extension": ".py",
   "mimetype": "text/x-python",
   "name": "python",
   "nbconvert_exporter": "python",
   "pygments_lexer": "ipython3",
   "version": "3.6.2"
  }
 },
 "nbformat": 4,
 "nbformat_minor": 1
}
