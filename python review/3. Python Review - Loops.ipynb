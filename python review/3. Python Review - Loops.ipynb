{
 "cells": [
  {
   "cell_type": "markdown",
   "metadata": {},
   "source": [
    "# Python Loops\n",
    "\n",
    "\n",
    "## Introduction \n",
    "\n",
    "Often in a program, we need to repeat a set of instructions until some condition is met.  We have two tools at our disposal to do this the `for` loop and `while` loop.\n",
    "\n",
    "## The `for` loop\n",
    "\n",
    "The `for` loop executes a set of instructions *for a given number of times.*  Hence, you should use a `for` loop when you know the number of times that you want to iterate over a block of code.\n",
    "\n",
    "### SYNTAX |  `for` -loop\n",
    "\n",
    "`for i in range(n):`\n",
    "\n",
    "        `# do something`\n",
    "\n",
    "\n",
    "Before looking at an example with a `for` loop, let's investigate the function `range()`\n",
    "\n",
    "#### EXAMPLES | loops with `range()` function"
   ]
  },
  {
   "cell_type": "code",
   "execution_count": null,
   "metadata": {},
   "outputs": [],
   "source": [
    "n = int(input(\"Print range starting at 0 and ending at integer: \"))\n",
    "for i in range(n+1):\n",
    "    print(i, end = \" \")"
   ]
  },
  {
   "cell_type": "code",
   "execution_count": null,
   "metadata": {},
   "outputs": [],
   "source": [
    "m = int(input(\"Print range starting at integer: \"))\n",
    "n = int(input(\"and ending at integer:\"))\n",
    "for i in range(m, n+1):\n",
    "    print(i, end = \" \")"
   ]
  },
  {
   "cell_type": "code",
   "execution_count": null,
   "metadata": {},
   "outputs": [],
   "source": [
    "m = int(input(\"Print range starting at integer: \"))\n",
    "n = int(input(\"and ending at integer:\"))\n",
    "s = int(input(\"using stepsize:\"))\n",
    "for i in range(m, n+1, s):\n",
    "    print(i, end = \" \")"
   ]
  },
  {
   "cell_type": "code",
   "execution_count": null,
   "metadata": {
    "collapsed": true
   },
   "outputs": [],
   "source": [
    "\"\"\"The following snippet of code calculate the amount in a savings account after n years \"\"\"\n",
    "\n",
    "initial_savings = float(input(\"Enter the initial savings amount: $\"))\n",
    "interest_rate = float(input(\"Enter the yearly interest (%): \")) / 100\n",
    "years = int(input(\"Enter years: \"))\n",
    "\n",
    "savings = initial_savings\n",
    "\n",
    "for i in range(years):\n",
    "    #savings = savings + savings * interest_rate\n",
    "    \"\"\"NOTE: x += 1 is the same as x = x + 1\"\"\"\n",
    "    savings += savings * interest_rate\n",
    "\n",
    "\n",
    "print(\"At the end of %d years, your savings amount to $%f\" % (years, savings))"
   ]
  },
  {
   "cell_type": "markdown",
   "metadata": {},
   "source": [
    "#### EXAMPLE | `for` - loop with a list"
   ]
  },
  {
   "cell_type": "code",
   "execution_count": null,
   "metadata": {},
   "outputs": [],
   "source": [
    "students = [\"Eric\", \"Kenia\", \"Tony\", \"Rose\"]\n",
    "n = len(students)\n",
    "for i in range(0, n):\n",
    "    print(students[i]) "
   ]
  },
  {
   "cell_type": "markdown",
   "metadata": {},
   "source": [
    "### SYNTAX |  `for`-loops for containers\n",
    "\n",
    "`for element in some_container:`\n",
    "        \n",
    "            print(element)\n",
    "            \n",
    "#### EXAMPLE | `for` loop to traverse list"
   ]
  },
  {
   "cell_type": "code",
   "execution_count": null,
   "metadata": {},
   "outputs": [],
   "source": [
    "courses = (\"MATH\", \"ENGR\", \"HIST\", \"DANCE\")\n",
    "for course in courses:\n",
    "    print(course, end = \" \")\n",
    "    \n",
    "print()\n",
    "grades = [\"A\", \"B\", \"C\", \"D\", \"F\"]\n",
    "\n",
    "for grade in grades:\n",
    "    print(grade, end = \" \")"
   ]
  },
  {
   "cell_type": "markdown",
   "metadata": {},
   "source": [
    "### SYNTAX |  `for`-loops for dictionaries\n",
    "\n",
    "#### Syntax 1 - Traversing dictionary keys\n",
    "\n",
    "`for key_var in dict_var:`\n",
    "            `dict_value = dict_var[key_var]`\n",
    "            `print(dict_value)`\n",
    "            \n",
    "#### Syntax 2 - Traversing dictionary keys and values\n",
    "`for (key_var, value_var) in dict_container.items():`\n",
    "        \n",
    "            print(key_var, value_var)\n",
    "            \n",
    "#### EXAMPLE | `for` loop to traverse dictionary keys"
   ]
  },
  {
   "cell_type": "code",
   "execution_count": null,
   "metadata": {
    "collapsed": true
   },
   "outputs": [],
   "source": [
    "\"\"\"The next block of code must format and print the phone numbers stored in the dictionary phonebook so that\n",
    "they appear in the form (XXX)XXX-XXXX\"\"\"\n",
    "\n",
    "phonebook = {\"Katherine Varela\" : \"5555555555\", \"Zoe T.\" : \"5551235151\", \"Mihn T.\" : \"5554565050\"}\n",
    "\n",
    "for entry in phonebook:  # entry = names (keys)\n",
    "    phone_num = phonebook[entry]  # access the number associated to the name stored in 'entry'\n",
    "    area_code = phone_num[:3] \n",
    "    first_three = phone_num[3:6]\n",
    "    last_four = phone_num[6:]\n",
    "    \n",
    "    print(\"Name:\", entry)\n",
    "    print(\"Number:\", \"(%s)%s-%s\" % (area_code, first_three, last_four))"
   ]
  },
  {
   "cell_type": "markdown",
   "metadata": {},
   "source": [
    "#### EXAMPLE | `for` loop to extract dictionary keys and corresponding values"
   ]
  },
  {
   "cell_type": "code",
   "execution_count": null,
   "metadata": {},
   "outputs": [],
   "source": [
    "records = {'012' : \"Sarah\", '013': \"Absalon\", '014' : \"Jack\"}\n",
    "print(\"ID# \\t\\t\\t NAME\")\n",
    "\n",
    "for (key, value) in records.items():\n",
    "    print(key, \"\\t\\t\\t\", value)\n"
   ]
  },
  {
   "cell_type": "markdown",
   "metadata": {},
   "source": [
    "##  The `while` - loops\n",
    "\n",
    "The second type of loop that we will consider is the `while` loop.  Unlike a `for` loop, a `while` loop *executes a block of instructions while a certain condition is `True`.*\n",
    "\n",
    "### SYNTAX | `while` loop\n",
    "\n",
    "`while some_condition:`\n",
    "\n",
    "        `# do something`\n",
    "        \n",
    "#### EXAMPLE | `while` - loop\n"
   ]
  },
  {
   "cell_type": "code",
   "execution_count": 1,
   "metadata": {},
   "outputs": [
    {
     "name": "stdout",
     "output_type": "stream",
     "text": [
      "Enter an integer: 18\n",
      "The squares less than 18 are:\n",
      "1 4 9 16 "
     ]
    }
   ],
   "source": [
    "x = int(input(\"Enter an integer: \"))\n",
    "y = 1\n",
    "# Print all the squares less than the user given integer\n",
    "print(\"The squares less than\", x, \"are:\")\n",
    "\n",
    "while(y * y < x):\n",
    "    print(y *y, end = \" \")\n",
    "    y += 1\n"
   ]
  },
  {
   "cell_type": "code",
   "execution_count": 6,
   "metadata": {},
   "outputs": [
    {
     "name": "stdout",
     "output_type": "stream",
     "text": [
      "Please enter a name or Q to quit: tony\n",
      "Please enter a name or Q to quit: rocio\n",
      "Please enter a name or Q to quit: kenia\n",
      "Please enter a name or Q to quit: kathy\n",
      "Please enter a name or Q to quit: q\n",
      "\n",
      "\n",
      "The following names were successfully stored:\n",
      "1. tony\n",
      "2. rocio\n",
      "3. kenia\n",
      "4. kathy\n"
     ]
    }
   ],
   "source": [
    "\"\"\"A program that stores all the names given by the user.\"\"\"\n",
    "response = input(\"Please enter a name or Q to quit: \")\n",
    "names = []\n",
    "\n",
    "while(response.upper() != \"Q\"):\n",
    "    names.append(response)\n",
    "    response = input(\"Please enter a name or Q to quit: \")\n",
    "\n",
    "print(\"\\n\\nThe following names were successfully stored:\")\n",
    "for i in range(len(names)):\n",
    "    print(\"%s. %s\" % (str(i+1), names[i]))\n",
    "    "
   ]
  },
  {
   "cell_type": "markdown",
   "metadata": {},
   "source": [
    "## Break and Continue\n",
    "\n",
    "There are two key words that facilitate tasks in our for and while loops \n",
    "significantly.  These are \"break\" and \"continue\":\n",
    "\n",
    "### DEF | BREAK\n",
    "\n",
    "    A break statement in a loop causes an immediate exit of the loop.\n",
    "\n",
    "#### EXAMPLE | \n"
   ]
  },
  {
   "cell_type": "code",
   "execution_count": null,
   "metadata": {
    "collapsed": true
   },
   "outputs": [],
   "source": [
    "name = input('Enter your name: ')\n",
    "idx = 0\n",
    "for char in name:\n",
    "    if char != ' ':\n",
    "        idx += 1\n",
    "    else:\n",
    "        break\n",
    "    \n",
    "first_name = name[0:idx+1]\n",
    "last_name = name[idx+1:]\n",
    "\n",
    "print(first_name)\n",
    "print(last_name)"
   ]
  },
  {
   "cell_type": "markdown",
   "metadata": {},
   "source": [
    "## Programming Exercises"
   ]
  },
  {
   "cell_type": "markdown",
   "metadata": {},
   "source": [
    "### EXERCISE 1 \n",
    "\n",
    "#### Background\n",
    "\n",
    "A student without knowledge of for loops was given the task of creating a program that can store a student record complete with the student's name, ID, courses, grades, and GPA.  The student coded the following:"
   ]
  },
  {
   "cell_type": "code",
   "execution_count": null,
   "metadata": {},
   "outputs": [],
   "source": [
    "records = {}  #initializes an empty dictionary of student records\n",
    "\n",
    "id_1 = input(\"Please enter the ID# of the student: \")\n",
    "name_1 = input(\"Enter the student name: \")\n",
    "courses_1 = []\n",
    "courses_1.append(input(\"Enter a course: \"))\n",
    "courses_1.append(input(\"Enter a course (\\\"N/A\\\" for none): \"))\n",
    "courses_1.append(input(\"Enter a course (\\\"N/A\\\" for none): \"))\n",
    "courses_1.append(input(\"Enter a course (\\\"N/A\\\" for none): \"))\n",
    "courses_1.append(input(\"Enter a course (\\\"N/A\\\" for none): \"))\n",
    "courses_1.append(input(\"Enter a course (\\\"N/A\\\" for none): \"))\n",
    "\n",
    "grades_1 = []\n",
    "\n",
    "if courses_1[0] != \"N/A\":\n",
    "    grades_1.append(input(\"Enter %s's grade for course %s: \" % (name_1, courses_1[0])).upper())\n",
    "if courses_1[1] != \"N/A\":\n",
    "    grades_1.append(input(\"Enter %s's grade for course %s: \" % (name_1, courses_1[1])).upper())\n",
    "if courses_1[2] != \"N/A\":\n",
    "    grades_1.append(input(\"Enter %s's grade for course %s: \" % (name_1, courses_1[2])).upper())\n",
    "if courses_1[3] != \"N/A\":\n",
    "    grades_1.append(input(\"Enter %s's grade for course %s: \" % (name_1, courses_1[3])).upper())\n",
    "if courses_1[4] != \"N/A\":\n",
    "    grades_1.append(input(\"Enter %s's grade for course %s: \" % (name_1, courses_1[4])).upper())\n",
    "if courses_1[5] != \"N/A\":\n",
    "    grades_1.append(input(\"Enter %s's grade for course %s: \" % (name_1, courses_1[5])).upper())\n",
    "\n",
    "\n",
    "numeric_grades_1 = []\n",
    "\n",
    "if courses_1[0] != \"N/A\":\n",
    "    if grades_1[0] == \"A\":\n",
    "        numeric_grades_1.append(4.0)\n",
    "    elif grades_1[0] == \"B\":\n",
    "        numeric_grades_1.append(3.0)\n",
    "    elif grades_1[0] == \"C\":\n",
    "        numeric_grades_1.append(2.0)\n",
    "    elif grades_1[0] == \"D\":\n",
    "        numeric_grades_1.append(1.0)\n",
    "    else: \n",
    "        numeric_grades_1.append(0.0)\n",
    "if courses_1[1] != \"N/A\":\n",
    "    if grades_1[1] == \"A\":\n",
    "        numeric_grades_1.append(4.0)\n",
    "    elif grades_1[1] == \"B\":\n",
    "        numeric_grades_1.append(3.0)\n",
    "    elif grades_1[1] == \"C\":\n",
    "        numeric_grades_1.append(2.0)\n",
    "    elif grades_1[1] == \"D\":\n",
    "        numeric_grades_1.append(1.0)\n",
    "    else: \n",
    "        numeric_grades_1.append(0.0)\n",
    "        \n",
    "if courses_1[2] != \"N/A\":\n",
    "    if grades_1[2] == \"A\":\n",
    "        numeric_grades_1.append(4.0)\n",
    "    elif grades_1[2] == \"B\":\n",
    "        numeric_grades_1.append(3.0)\n",
    "    elif grades_1[2] == \"C\":\n",
    "        numeric_grades_1.append(2.0)\n",
    "    elif grades_1[2] == \"D\":\n",
    "        numeric_grades_1.append(1.0)\n",
    "    else: \n",
    "        numeric_grades_1.append(0.0)\n",
    "\n",
    "if courses_1[3] != \"N/A\":\n",
    "    if grades_1[3] == \"A\":\n",
    "        numeric_grades_1.append(4.0)\n",
    "    elif grades_1[3] == \"B\":\n",
    "        numeric_grades_1.append(3.0)\n",
    "    elif grades_1[3] == \"C\":\n",
    "        numeric_grades_1.append(2.0)\n",
    "    elif grades_1[3] == \"D\":\n",
    "        numeric_grades_1.append(1.0)\n",
    "    else: \n",
    "        numeric_grades_1.append(0.0)\n",
    "if courses_1[4] != \"N/A\":\n",
    "    if grades_1[4] == \"A\":\n",
    "        numeric_grades_1.append(4.0)\n",
    "    elif grades_1[4] == \"B\":\n",
    "        numeric_grades_1.append(3.0)\n",
    "    elif grades_1[4] == \"C\":\n",
    "        numeric_grades_1.append(2.0)\n",
    "    elif grades_1[4] == \"D\":\n",
    "        numeric_grades_1.append(1.0)\n",
    "    else: \n",
    "        numeric_grades_1.append(0.0)\n",
    "        \n",
    "if courses_1[5] != \"N/A\":\n",
    "    if grades_1[5] == \"A\":\n",
    "        numeric_grades_1.append(4.0)\n",
    "    elif grades_1[5] == \"B\":\n",
    "        numeric_grades_1.append(3.0)\n",
    "    elif grades_1[5] == \"C\":\n",
    "        numeric_grades_1.append(2.0)\n",
    "    elif grades_1[5] == \"D\":\n",
    "        numeric_grades_1.append(1.0)\n",
    "    else: \n",
    "        numeric_grades_1.append(0.0)\n",
    "    \n",
    "gpa_1 = sum(numeric_grades_1)/len(numeric_grades_1)\n",
    "\n",
    "\n",
    "record_1 = [name_1, courses_1, grades_1,gpa_1]\n",
    "          \n",
    "print(\"Record Created Successfully!\")\n",
    "\n",
    "records[id_1] = record_1\n",
    "\n",
    "id_entered = input(\"\\n\\nEnter an ID# to display the record: \")\n",
    "record_desired = records[id_entered]\n",
    "courses_desired = record_desired[1]\n",
    "desired_grades = record_desired[2]\n",
    "\n",
    "print(\"Name: \", record_desired[0])\n",
    "print(\"%-20s%-5s\" % (\"Course\", \"Grade\"))\n",
    "if courses_desired[0] != \"N/A\":\n",
    "    print(\"%-20s%-5s\" % (courses_desired[0], desired_grades[0]))\n",
    "if courses_desired[1] != \"N/A\":\n",
    "    print(\"%-20s%-5s\" % (courses_desired[1], desired_grades[1]))\n",
    "if courses_desired[2] != \"N/A\":\n",
    "    print(\"%-20s%-5s\" % (courses_desired[2], desired_grades[2]))\n",
    "if courses_desired[3] != \"N/A\":\n",
    "    print(\"%-20s%-5s\" % (courses_desired[3], desired_grades[3]))\n",
    "if courses_desired[4] != \"N/A\":\n",
    "    print(\"%-20s%-5s\" % (courses_desired[4], desired_grades[4]))\n",
    "if courses_desired[5] != \"N/A\":\n",
    "    print(\"%-20s%-5s\" % (courses_desired[5], desired_grades[5]))\n",
    "    \n",
    "print(\"\\nGPA:\\t\\t\\t\", record_desired[3])\n"
   ]
  },
  {
   "cell_type": "markdown",
   "metadata": {},
   "source": [
    "Notice that there was more than one instance in which instructions were repeated:\n",
    "\n",
    "* ask the user for six course names.\n",
    "* ask the grade of each non-\"N/A\" course to append it to a list\n",
    "* traverse the list containing letter grades to convert them to their corresponding numeric value\n",
    "* check which courses were not \"N/A\" to print them to the console.\n",
    "\n",
    "#### Instructions\n",
    "\n",
    "Modify the program so that it uses `for` loops instead of repeated instructions.\n",
    "\n",
    "#### Solution"
   ]
  },
  {
   "cell_type": "code",
   "execution_count": null,
   "metadata": {},
   "outputs": [],
   "source": [
    "point_values = {\"A\" : 4.0, \"B\" : 3.0, \"C\" : 2.0, \"D\": 1.0, \"F\":0, \"A\" : 4.0, \"B\" : 3.0, \"C\" : 2.0, \"D\": 1.0, \"f\":0}\n",
    "student_records = {}  #empty dictionary of student records\n",
    "\n",
    "#FIXME: Complete the implementation"
   ]
  },
  {
   "cell_type": "markdown",
   "metadata": {},
   "source": [
    "### EXERCISE 2\n",
    "\n",
    "#### Instructions\n",
    "\n",
    "Modify the student record program above so that \n",
    "\n",
    "1.  the program accepts course names until the user enters \"N/A\"\n",
    "2.  the program gives the user the option to add as many student records as necessary.\n",
    "3.  the program gives the user the option to keep displaying records or exit the program.\n",
    "\n",
    "#### Solution"
   ]
  },
  {
   "cell_type": "code",
   "execution_count": null,
   "metadata": {
    "collapsed": true
   },
   "outputs": [],
   "source": []
  }
 ],
 "metadata": {
  "anaconda-cloud": {},
  "kernelspec": {
   "display_name": "Python 3",
   "language": "python",
   "name": "python3"
  },
  "language_info": {
   "codemirror_mode": {
    "name": "ipython",
    "version": 3
   },
   "file_extension": ".py",
   "mimetype": "text/x-python",
   "name": "python",
   "nbconvert_exporter": "python",
   "pygments_lexer": "ipython3",
   "version": "3.6.2"
  }
 },
 "nbformat": 4,
 "nbformat_minor": 1
}
